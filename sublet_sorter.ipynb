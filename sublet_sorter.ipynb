{
 "cells": [
  {
   "cell_type": "code",
   "execution_count": 1,
   "metadata": {},
   "outputs": [],
   "source": [
    "import pandas as pd"
   ]
  },
  {
   "cell_type": "code",
   "execution_count": 2,
   "metadata": {},
   "outputs": [],
   "source": [
    "df = pd.read_excel(\"Yale Kopa 12-14(1).xlsx\")"
   ]
  },
  {
   "cell_type": "code",
   "execution_count": 3,
   "metadata": {},
   "outputs": [
    {
     "data": {
      "text/html": [
       "<div>\n",
       "<style scoped>\n",
       "    .dataframe tbody tr th:only-of-type {\n",
       "        vertical-align: middle;\n",
       "    }\n",
       "\n",
       "    .dataframe tbody tr th {\n",
       "        vertical-align: top;\n",
       "    }\n",
       "\n",
       "    .dataframe thead th {\n",
       "        text-align: right;\n",
       "    }\n",
       "</style>\n",
       "<table border=\"1\" class=\"dataframe\">\n",
       "  <thead>\n",
       "    <tr style=\"text-align: right;\">\n",
       "      <th></th>\n",
       "      <th>Name</th>\n",
       "      <th>Name URL</th>\n",
       "      <th>ei</th>\n",
       "      <th>Title</th>\n",
       "      <th>Price</th>\n",
       "      <th>Location</th>\n",
       "      <th>Description</th>\n",
       "      <th>en</th>\n",
       "      <th>en1</th>\n",
       "      <th>en2</th>\n",
       "      <th>Date</th>\n",
       "      <th>Post URL</th>\n",
       "    </tr>\n",
       "  </thead>\n",
       "  <tbody>\n",
       "    <tr>\n",
       "      <th>0</th>\n",
       "      <td>Laura Scarinci</td>\n",
       "      <td>https://mbasic.facebook.com/laura.scarinci.526...</td>\n",
       "      <td>NaN</td>\n",
       "      <td>(Sold)Colorful Furnished 1BR Apartment</td>\n",
       "      <td>€1,270</td>\n",
       "      <td>Downtown New Haven</td>\n",
       "      <td>Hi everyone.\\nI am subletting starting now unt...</td>\n",
       "      <td>NaN</td>\n",
       "      <td>NaN</td>\n",
       "      <td>NaN</td>\n",
       "      <td>9 hrs</td>\n",
       "      <td>https://m.facebook.com/groups/1483912085183985...</td>\n",
       "    </tr>\n",
       "    <tr>\n",
       "      <th>1</th>\n",
       "      <td>Stella Lou</td>\n",
       "      <td>https://mbasic.facebook.com/stella.lou.50999?r...</td>\n",
       "      <td>NaN</td>\n",
       "      <td>(Sold)Room available close to Yale SOM</td>\n",
       "      <td>$826</td>\n",
       "      <td>Downtown New Haven</td>\n",
       "      <td>Hey everyone! If there’s someone who needs tem...</td>\n",
       "      <td>NaN</td>\n",
       "      <td>NaN</td>\n",
       "      <td>NaN</td>\n",
       "      <td>7 hrs</td>\n",
       "      <td>https://m.facebook.com/groups/1483912085183985...</td>\n",
       "    </tr>\n",
       "    <tr>\n",
       "      <th>2</th>\n",
       "      <td>Alex Mahler-Haug</td>\n",
       "      <td>https://mbasic.facebook.com/hmhsa?refid=18&amp;_ft...</td>\n",
       "      <td>NaN</td>\n",
       "      <td>(Sold)WindTunnel 2 Whole House Rewind Upright ...</td>\n",
       "      <td>$90</td>\n",
       "      <td>Quinnipiac Meadows</td>\n",
       "      <td>WindTunnel 2 Whole House Rewind Upright Bagles...</td>\n",
       "      <td>NaN</td>\n",
       "      <td>NaN</td>\n",
       "      <td>NaN</td>\n",
       "      <td>6 hrs</td>\n",
       "      <td>https://m.facebook.com/groups/1483912085183985...</td>\n",
       "    </tr>\n",
       "    <tr>\n",
       "      <th>3</th>\n",
       "      <td>Nikolay Gresko</td>\n",
       "      <td>https://mbasic.facebook.com/nikolay.gresko?ref...</td>\n",
       "      <td>NaN</td>\n",
       "      <td>(Sold)Furnished bedroom in 2br/1 bath townhous...</td>\n",
       "      <td>$880</td>\n",
       "      <td>Downtown New Haven</td>\n",
       "      <td>Quiet and clean bedroom available in January. ...</td>\n",
       "      <td>NaN</td>\n",
       "      <td>NaN</td>\n",
       "      <td>NaN</td>\n",
       "      <td>6 hrs</td>\n",
       "      <td>https://m.facebook.com/groups/1483912085183985...</td>\n",
       "    </tr>\n",
       "    <tr>\n",
       "      <th>4</th>\n",
       "      <td>Daniel Cichocki</td>\n",
       "      <td>https://mbasic.facebook.com/DannyCichocki?refi...</td>\n",
       "      <td>NaN</td>\n",
       "      <td>(Sold)Large Room Available Starting January 1s...</td>\n",
       "      <td>$650</td>\n",
       "      <td>Downtown New Haven</td>\n",
       "      <td>Large Room Available Starting January 1 2021 i...</td>\n",
       "      <td>NaN</td>\n",
       "      <td>NaN</td>\n",
       "      <td>NaN</td>\n",
       "      <td>December 12 at 5:32 PM</td>\n",
       "      <td>https://m.facebook.com/groups/1483912085183985...</td>\n",
       "    </tr>\n",
       "  </tbody>\n",
       "</table>\n",
       "</div>"
      ],
      "text/plain": [
       "               Name                                           Name URL  ei  \\\n",
       "0    Laura Scarinci  https://mbasic.facebook.com/laura.scarinci.526... NaN   \n",
       "1        Stella Lou  https://mbasic.facebook.com/stella.lou.50999?r... NaN   \n",
       "2  Alex Mahler-Haug  https://mbasic.facebook.com/hmhsa?refid=18&_ft... NaN   \n",
       "3    Nikolay Gresko  https://mbasic.facebook.com/nikolay.gresko?ref... NaN   \n",
       "4   Daniel Cichocki  https://mbasic.facebook.com/DannyCichocki?refi... NaN   \n",
       "\n",
       "                                               Title   Price  \\\n",
       "0             (Sold)Colorful Furnished 1BR Apartment  €1,270   \n",
       "1             (Sold)Room available close to Yale SOM    $826   \n",
       "2  (Sold)WindTunnel 2 Whole House Rewind Upright ...     $90   \n",
       "3  (Sold)Furnished bedroom in 2br/1 bath townhous...    $880   \n",
       "4  (Sold)Large Room Available Starting January 1s...    $650   \n",
       "\n",
       "             Location                                        Description  en  \\\n",
       "0  Downtown New Haven  Hi everyone.\\nI am subletting starting now unt... NaN   \n",
       "1  Downtown New Haven  Hey everyone! If there’s someone who needs tem... NaN   \n",
       "2  Quinnipiac Meadows  WindTunnel 2 Whole House Rewind Upright Bagles... NaN   \n",
       "3  Downtown New Haven  Quiet and clean bedroom available in January. ... NaN   \n",
       "4  Downtown New Haven  Large Room Available Starting January 1 2021 i... NaN   \n",
       "\n",
       "   en1  en2                    Date  \\\n",
       "0  NaN  NaN                   9 hrs   \n",
       "1  NaN  NaN                   7 hrs   \n",
       "2  NaN  NaN                   6 hrs   \n",
       "3  NaN  NaN                   6 hrs   \n",
       "4  NaN  NaN  December 12 at 5:32 PM   \n",
       "\n",
       "                                            Post URL  \n",
       "0  https://m.facebook.com/groups/1483912085183985...  \n",
       "1  https://m.facebook.com/groups/1483912085183985...  \n",
       "2  https://m.facebook.com/groups/1483912085183985...  \n",
       "3  https://m.facebook.com/groups/1483912085183985...  \n",
       "4  https://m.facebook.com/groups/1483912085183985...  "
      ]
     },
     "execution_count": 3,
     "metadata": {},
     "output_type": "execute_result"
    }
   ],
   "source": [
    "df.head()"
   ]
  },
  {
   "cell_type": "code",
   "execution_count": 4,
   "metadata": {},
   "outputs": [],
   "source": [
    "df.drop(columns=[\"ei\", \"en\", \"en1\", \"en2\"], inplace=True)"
   ]
  },
  {
   "cell_type": "code",
   "execution_count": 5,
   "metadata": {},
   "outputs": [],
   "source": [
    "def clean_name_url(url):\n",
    "    url, _ = url.split(\"refid\")\n",
    "    permalink = url[:-1].replace(\"mbasic.face\", \"web.face\")\n",
    "    return f'=HYPERLINK(\"{permalink}\", \"View Profile\")'\n",
    "    \n",
    "\n",
    "def clean_post_url(url):\n",
    "    url, _ = url.split(\"refid\")\n",
    "    permalink = url[:-1].replace(\"m.face\", \"web.face\")\n",
    "    return f'=HYPERLINK(\"{permalink}\", \"View Post\")'"
   ]
  },
  {
   "cell_type": "code",
   "execution_count": 6,
   "metadata": {},
   "outputs": [],
   "source": [
    "def clean_title(title):\n",
    "    return title.replace(\"(Sold)\", \"\")"
   ]
  },
  {
   "cell_type": "code",
   "execution_count": 7,
   "metadata": {},
   "outputs": [],
   "source": [
    "import re\n",
    "\n",
    "def parse_price(price):\n",
    "    str_res = \"\".join(re.findall(r\"\\d+\", price))\n",
    "    if str_res:\n",
    "        return int(str_res)\n",
    "    return 0"
   ]
  },
  {
   "cell_type": "code",
   "execution_count": 8,
   "metadata": {},
   "outputs": [
    {
     "data": {
      "text/plain": [
       "datetime.datetime(2020, 12, 16, 3, 40, 4, 648998)"
      ]
     },
     "execution_count": 8,
     "metadata": {},
     "output_type": "execute_result"
    }
   ],
   "source": [
    "from datetime import datetime\n",
    "\n",
    "datetime.today()"
   ]
  },
  {
   "cell_type": "code",
   "execution_count": 9,
   "metadata": {},
   "outputs": [],
   "source": [
    "date = datetime.strptime(\"December 12\", \"%B %d\")"
   ]
  },
  {
   "cell_type": "code",
   "execution_count": 10,
   "metadata": {},
   "outputs": [
    {
     "data": {
      "text/plain": [
       "2020"
      ]
     },
     "execution_count": 10,
     "metadata": {},
     "output_type": "execute_result"
    }
   ],
   "source": [
    "today = datetime.today()\n",
    "today.year"
   ]
  },
  {
   "cell_type": "code",
   "execution_count": 11,
   "metadata": {},
   "outputs": [],
   "source": [
    "from datetime import datetime, timedelta\n",
    "\n",
    "def parse_date(date):\n",
    "    today = datetime.today()\n",
    "    if \"hrs\" in date:\n",
    "        parsed_date = today\n",
    "    elif \"Yesterday\" in date:\n",
    "        parsed_date = today - timedelta(days=1)\n",
    "    else:\n",
    "        return date.split(\" at\")[0]\n",
    "    return parsed_date.strftime(\"%B %d\") "
   ]
  },
  {
   "cell_type": "code",
   "execution_count": 12,
   "metadata": {},
   "outputs": [
    {
     "data": {
      "text/plain": [
       "'December 11'"
      ]
     },
     "execution_count": 12,
     "metadata": {},
     "output_type": "execute_result"
    }
   ],
   "source": [
    "parse_date(\"December 11 at 1:55 PM\")"
   ]
  },
  {
   "cell_type": "code",
   "execution_count": 13,
   "metadata": {},
   "outputs": [
    {
     "data": {
      "text/plain": [
       "'December 15'"
      ]
     },
     "execution_count": 13,
     "metadata": {},
     "output_type": "execute_result"
    }
   ],
   "source": [
    "parse_date(\"Yesterday at 7:32 PM\")"
   ]
  },
  {
   "cell_type": "code",
   "execution_count": 14,
   "metadata": {},
   "outputs": [
    {
     "data": {
      "text/plain": [
       "'December 16'"
      ]
     },
     "execution_count": 14,
     "metadata": {},
     "output_type": "execute_result"
    }
   ],
   "source": [
    "parse_date(\"9 hrs\")"
   ]
  },
  {
   "cell_type": "code",
   "execution_count": 15,
   "metadata": {},
   "outputs": [],
   "source": [
    "df = df[df[\"Price\"].apply(parse_price) > 500]"
   ]
  },
  {
   "cell_type": "code",
   "execution_count": 16,
   "metadata": {},
   "outputs": [],
   "source": [
    "df[\"Date\"] = df[\"Date\"].apply(parse_date)"
   ]
  },
  {
   "cell_type": "code",
   "execution_count": 17,
   "metadata": {},
   "outputs": [],
   "source": [
    "df[\"Name URL\"] = df[\"Name URL\"].apply(clean_name_url)\n",
    "df[\"Post URL\"] = df[\"Post URL\"].apply(clean_post_url)"
   ]
  },
  {
   "cell_type": "code",
   "execution_count": 18,
   "metadata": {},
   "outputs": [],
   "source": [
    "df[\"Title\"] = df[\"Title\"].apply(clean_title)"
   ]
  },
  {
   "cell_type": "code",
   "execution_count": 19,
   "metadata": {},
   "outputs": [
    {
     "data": {
      "text/html": [
       "<div>\n",
       "<style scoped>\n",
       "    .dataframe tbody tr th:only-of-type {\n",
       "        vertical-align: middle;\n",
       "    }\n",
       "\n",
       "    .dataframe tbody tr th {\n",
       "        vertical-align: top;\n",
       "    }\n",
       "\n",
       "    .dataframe thead th {\n",
       "        text-align: right;\n",
       "    }\n",
       "</style>\n",
       "<table border=\"1\" class=\"dataframe\">\n",
       "  <thead>\n",
       "    <tr style=\"text-align: right;\">\n",
       "      <th></th>\n",
       "      <th>Name</th>\n",
       "      <th>Name URL</th>\n",
       "      <th>Title</th>\n",
       "      <th>Price</th>\n",
       "      <th>Location</th>\n",
       "      <th>Description</th>\n",
       "      <th>Date</th>\n",
       "      <th>Post URL</th>\n",
       "    </tr>\n",
       "  </thead>\n",
       "  <tbody>\n",
       "    <tr>\n",
       "      <th>0</th>\n",
       "      <td>Laura Scarinci</td>\n",
       "      <td>=HYPERLINK(\"https://web.facebook.com/laura.sca...</td>\n",
       "      <td>Colorful Furnished 1BR Apartment</td>\n",
       "      <td>€1,270</td>\n",
       "      <td>Downtown New Haven</td>\n",
       "      <td>Hi everyone.\\nI am subletting starting now unt...</td>\n",
       "      <td>December 16</td>\n",
       "      <td>=HYPERLINK(\"https://web.facebook.com/groups/14...</td>\n",
       "    </tr>\n",
       "    <tr>\n",
       "      <th>1</th>\n",
       "      <td>Stella Lou</td>\n",
       "      <td>=HYPERLINK(\"https://web.facebook.com/stella.lo...</td>\n",
       "      <td>Room available close to Yale SOM</td>\n",
       "      <td>$826</td>\n",
       "      <td>Downtown New Haven</td>\n",
       "      <td>Hey everyone! If there’s someone who needs tem...</td>\n",
       "      <td>December 16</td>\n",
       "      <td>=HYPERLINK(\"https://web.facebook.com/groups/14...</td>\n",
       "    </tr>\n",
       "    <tr>\n",
       "      <th>3</th>\n",
       "      <td>Nikolay Gresko</td>\n",
       "      <td>=HYPERLINK(\"https://web.facebook.com/nikolay.g...</td>\n",
       "      <td>Furnished bedroom in 2br/1 bath townhouse in N...</td>\n",
       "      <td>$880</td>\n",
       "      <td>Downtown New Haven</td>\n",
       "      <td>Quiet and clean bedroom available in January. ...</td>\n",
       "      <td>December 16</td>\n",
       "      <td>=HYPERLINK(\"https://web.facebook.com/groups/14...</td>\n",
       "    </tr>\n",
       "    <tr>\n",
       "      <th>4</th>\n",
       "      <td>Daniel Cichocki</td>\n",
       "      <td>=HYPERLINK(\"https://web.facebook.com/DannyCich...</td>\n",
       "      <td>Large Room Available Starting January 1st  2021</td>\n",
       "      <td>$650</td>\n",
       "      <td>Downtown New Haven</td>\n",
       "      <td>Large Room Available Starting January 1 2021 i...</td>\n",
       "      <td>December 12</td>\n",
       "      <td>=HYPERLINK(\"https://web.facebook.com/groups/14...</td>\n",
       "    </tr>\n",
       "    <tr>\n",
       "      <th>9</th>\n",
       "      <td>Jeffery Jones</td>\n",
       "      <td>=HYPERLINK(\"https://web.facebook.com/jeffery.j...</td>\n",
       "      <td>Room Available In New Haven</td>\n",
       "      <td>$750</td>\n",
       "      <td>Downtown New Haven</td>\n",
       "      <td>Stainless steel appliances: oven, fridge, micr...</td>\n",
       "      <td>December 16</td>\n",
       "      <td>=HYPERLINK(\"https://web.facebook.com/groups/14...</td>\n",
       "    </tr>\n",
       "  </tbody>\n",
       "</table>\n",
       "</div>"
      ],
      "text/plain": [
       "              Name                                           Name URL  \\\n",
       "0   Laura Scarinci  =HYPERLINK(\"https://web.facebook.com/laura.sca...   \n",
       "1       Stella Lou  =HYPERLINK(\"https://web.facebook.com/stella.lo...   \n",
       "3   Nikolay Gresko  =HYPERLINK(\"https://web.facebook.com/nikolay.g...   \n",
       "4  Daniel Cichocki  =HYPERLINK(\"https://web.facebook.com/DannyCich...   \n",
       "9    Jeffery Jones  =HYPERLINK(\"https://web.facebook.com/jeffery.j...   \n",
       "\n",
       "                                               Title   Price  \\\n",
       "0                   Colorful Furnished 1BR Apartment  €1,270   \n",
       "1                   Room available close to Yale SOM    $826   \n",
       "3  Furnished bedroom in 2br/1 bath townhouse in N...    $880   \n",
       "4    Large Room Available Starting January 1st  2021    $650   \n",
       "9                        Room Available In New Haven    $750   \n",
       "\n",
       "             Location                                        Description  \\\n",
       "0  Downtown New Haven  Hi everyone.\\nI am subletting starting now unt...   \n",
       "1  Downtown New Haven  Hey everyone! If there’s someone who needs tem...   \n",
       "3  Downtown New Haven  Quiet and clean bedroom available in January. ...   \n",
       "4  Downtown New Haven  Large Room Available Starting January 1 2021 i...   \n",
       "9  Downtown New Haven  Stainless steel appliances: oven, fridge, micr...   \n",
       "\n",
       "          Date                                           Post URL  \n",
       "0  December 16  =HYPERLINK(\"https://web.facebook.com/groups/14...  \n",
       "1  December 16  =HYPERLINK(\"https://web.facebook.com/groups/14...  \n",
       "3  December 16  =HYPERLINK(\"https://web.facebook.com/groups/14...  \n",
       "4  December 12  =HYPERLINK(\"https://web.facebook.com/groups/14...  \n",
       "9  December 16  =HYPERLINK(\"https://web.facebook.com/groups/14...  "
      ]
     },
     "execution_count": 19,
     "metadata": {},
     "output_type": "execute_result"
    }
   ],
   "source": [
    "df.head()"
   ]
  },
  {
   "cell_type": "code",
   "execution_count": 20,
   "metadata": {},
   "outputs": [],
   "source": [
    "df.to_excel(\"parsed.xlsx\", index=False)"
   ]
  },
  {
   "cell_type": "code",
   "execution_count": null,
   "metadata": {},
   "outputs": [],
   "source": []
  }
 ],
 "metadata": {
  "kernelspec": {
   "display_name": "Basic",
   "language": "python",
   "name": "basic"
  },
  "language_info": {
   "codemirror_mode": {
    "name": "ipython",
    "version": 3
   },
   "file_extension": ".py",
   "mimetype": "text/x-python",
   "name": "python",
   "nbconvert_exporter": "python",
   "pygments_lexer": "ipython3",
   "version": "3.7.9"
  }
 },
 "nbformat": 4,
 "nbformat_minor": 4
}
